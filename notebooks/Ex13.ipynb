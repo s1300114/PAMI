{
  "nbformat": 4,
  "nbformat_minor": 0,
  "metadata": {
    "colab": {
      "provenance": []
    },
    "kernelspec": {
      "name": "python3",
      "display_name": "Python 3"
    },
    "language_info": {
      "name": "python"
    }
  },
  "cells": [
    {
      "cell_type": "code",
      "source": [
        "!git clone https://github.com/UdayLab/PAMI.git"
      ],
      "metadata": {
        "colab": {
          "base_uri": "https://localhost:8080/",
          "height": 0
        },
        "id": "blgk14l1VQSN",
        "outputId": "02c0bc3d-c3a1-4ca2-b700-781f40a93ca9"
      },
      "execution_count": 1,
      "outputs": [
        {
          "output_type": "stream",
          "name": "stdout",
          "text": [
            "Cloning into 'PAMI'...\n",
            "remote: Enumerating objects: 37042, done.\u001b[K\n",
            "remote: Counting objects: 100% (11183/11183), done.\u001b[K\n",
            "remote: Compressing objects: 100% (2478/2478), done.\u001b[K\n",
            "remote: Total 37042 (delta 7983), reused 10778 (delta 7812), pack-reused 25859\u001b[K\n",
            "Receiving objects: 100% (37042/37042), 151.81 MiB | 7.62 MiB/s, done.\n",
            "Resolving deltas: 100% (25462/25462), done.\n",
            "Updating files: 100% (3014/3014), done.\n"
          ]
        }
      ]
    },
    {
      "cell_type": "code",
      "source": [
        "!pip install -e PAMI"
      ],
      "metadata": {
        "colab": {
          "base_uri": "https://localhost:8080/",
          "height": 0
        },
        "id": "3Zowf_tPVUBO",
        "outputId": "78ddbc62-2090-47b5-de42-3367d364a004"
      },
      "execution_count": 2,
      "outputs": [
        {
          "output_type": "stream",
          "name": "stdout",
          "text": [
            "Obtaining file:///content/PAMI\n",
            "  Preparing metadata (setup.py) ... \u001b[?25l\u001b[?25hdone\n",
            "Requirement already satisfied: psutil in /usr/local/lib/python3.10/dist-packages (from pami==2024.7.2) (5.9.5)\n",
            "Requirement already satisfied: pandas in /usr/local/lib/python3.10/dist-packages (from pami==2024.7.2) (2.0.3)\n",
            "Requirement already satisfied: plotly in /usr/local/lib/python3.10/dist-packages (from pami==2024.7.2) (5.15.0)\n",
            "Requirement already satisfied: matplotlib in /usr/local/lib/python3.10/dist-packages (from pami==2024.7.2) (3.7.1)\n",
            "Collecting resource (from pami==2024.7.2)\n",
            "  Downloading Resource-0.2.1-py2.py3-none-any.whl.metadata (478 bytes)\n",
            "Collecting validators (from pami==2024.7.2)\n",
            "  Downloading validators-0.33.0-py3-none-any.whl.metadata (3.8 kB)\n",
            "Requirement already satisfied: urllib3 in /usr/local/lib/python3.10/dist-packages (from pami==2024.7.2) (2.0.7)\n",
            "Requirement already satisfied: Pillow in /usr/local/lib/python3.10/dist-packages (from pami==2024.7.2) (9.4.0)\n",
            "Requirement already satisfied: numpy in /usr/local/lib/python3.10/dist-packages (from pami==2024.7.2) (1.25.2)\n",
            "Requirement already satisfied: sphinx in /usr/local/lib/python3.10/dist-packages (from pami==2024.7.2) (5.0.2)\n",
            "Collecting sphinx-rtd-theme (from pami==2024.7.2)\n",
            "  Downloading sphinx_rtd_theme-2.0.0-py2.py3-none-any.whl.metadata (4.4 kB)\n",
            "Collecting discord.py (from pami==2024.7.2)\n",
            "  Downloading discord.py-2.4.0-py3-none-any.whl.metadata (6.9 kB)\n",
            "Requirement already satisfied: networkx in /usr/local/lib/python3.10/dist-packages (from pami==2024.7.2) (3.3)\n",
            "Collecting deprecated (from pami==2024.7.2)\n",
            "  Downloading Deprecated-1.2.14-py2.py3-none-any.whl.metadata (5.4 kB)\n",
            "Requirement already satisfied: wrapt<2,>=1.10 in /usr/local/lib/python3.10/dist-packages (from deprecated->pami==2024.7.2) (1.14.1)\n",
            "Requirement already satisfied: aiohttp<4,>=3.7.4 in /usr/local/lib/python3.10/dist-packages (from discord.py->pami==2024.7.2) (3.9.5)\n",
            "Requirement already satisfied: contourpy>=1.0.1 in /usr/local/lib/python3.10/dist-packages (from matplotlib->pami==2024.7.2) (1.2.1)\n",
            "Requirement already satisfied: cycler>=0.10 in /usr/local/lib/python3.10/dist-packages (from matplotlib->pami==2024.7.2) (0.12.1)\n",
            "Requirement already satisfied: fonttools>=4.22.0 in /usr/local/lib/python3.10/dist-packages (from matplotlib->pami==2024.7.2) (4.53.1)\n",
            "Requirement already satisfied: kiwisolver>=1.0.1 in /usr/local/lib/python3.10/dist-packages (from matplotlib->pami==2024.7.2) (1.4.5)\n",
            "Requirement already satisfied: packaging>=20.0 in /usr/local/lib/python3.10/dist-packages (from matplotlib->pami==2024.7.2) (24.1)\n",
            "Requirement already satisfied: pyparsing>=2.3.1 in /usr/local/lib/python3.10/dist-packages (from matplotlib->pami==2024.7.2) (3.1.2)\n",
            "Requirement already satisfied: python-dateutil>=2.7 in /usr/local/lib/python3.10/dist-packages (from matplotlib->pami==2024.7.2) (2.8.2)\n",
            "Requirement already satisfied: pytz>=2020.1 in /usr/local/lib/python3.10/dist-packages (from pandas->pami==2024.7.2) (2024.1)\n",
            "Requirement already satisfied: tzdata>=2022.1 in /usr/local/lib/python3.10/dist-packages (from pandas->pami==2024.7.2) (2024.1)\n",
            "Requirement already satisfied: tenacity>=6.2.0 in /usr/local/lib/python3.10/dist-packages (from plotly->pami==2024.7.2) (8.5.0)\n",
            "Collecting JsonForm>=0.0.2 (from resource->pami==2024.7.2)\n",
            "  Downloading JsonForm-0.0.2.tar.gz (2.4 kB)\n",
            "  Preparing metadata (setup.py) ... \u001b[?25l\u001b[?25hdone\n",
            "Collecting JsonSir>=0.0.2 (from resource->pami==2024.7.2)\n",
            "  Downloading JsonSir-0.0.2.tar.gz (2.2 kB)\n",
            "  Preparing metadata (setup.py) ... \u001b[?25l\u001b[?25hdone\n",
            "Collecting python-easyconfig>=0.1.0 (from resource->pami==2024.7.2)\n",
            "  Downloading Python_EasyConfig-0.1.7-py2.py3-none-any.whl.metadata (462 bytes)\n",
            "Requirement already satisfied: sphinxcontrib-applehelp in /usr/local/lib/python3.10/dist-packages (from sphinx->pami==2024.7.2) (1.0.8)\n",
            "Requirement already satisfied: sphinxcontrib-devhelp in /usr/local/lib/python3.10/dist-packages (from sphinx->pami==2024.7.2) (1.0.6)\n",
            "Requirement already satisfied: sphinxcontrib-jsmath in /usr/local/lib/python3.10/dist-packages (from sphinx->pami==2024.7.2) (1.0.1)\n",
            "Requirement already satisfied: sphinxcontrib-htmlhelp>=2.0.0 in /usr/local/lib/python3.10/dist-packages (from sphinx->pami==2024.7.2) (2.0.6)\n",
            "Requirement already satisfied: sphinxcontrib-serializinghtml>=1.1.5 in /usr/local/lib/python3.10/dist-packages (from sphinx->pami==2024.7.2) (1.1.10)\n",
            "Requirement already satisfied: sphinxcontrib-qthelp in /usr/local/lib/python3.10/dist-packages (from sphinx->pami==2024.7.2) (1.0.8)\n",
            "Requirement already satisfied: Jinja2>=2.3 in /usr/local/lib/python3.10/dist-packages (from sphinx->pami==2024.7.2) (3.1.4)\n",
            "Requirement already satisfied: Pygments>=2.0 in /usr/local/lib/python3.10/dist-packages (from sphinx->pami==2024.7.2) (2.16.1)\n",
            "Requirement already satisfied: docutils<0.19,>=0.14 in /usr/local/lib/python3.10/dist-packages (from sphinx->pami==2024.7.2) (0.18.1)\n",
            "Requirement already satisfied: snowballstemmer>=1.1 in /usr/local/lib/python3.10/dist-packages (from sphinx->pami==2024.7.2) (2.2.0)\n",
            "Requirement already satisfied: babel>=1.3 in /usr/local/lib/python3.10/dist-packages (from sphinx->pami==2024.7.2) (2.15.0)\n",
            "Requirement already satisfied: alabaster<0.8,>=0.7 in /usr/local/lib/python3.10/dist-packages (from sphinx->pami==2024.7.2) (0.7.16)\n",
            "Requirement already satisfied: imagesize in /usr/local/lib/python3.10/dist-packages (from sphinx->pami==2024.7.2) (1.4.1)\n",
            "Requirement already satisfied: requests>=2.5.0 in /usr/local/lib/python3.10/dist-packages (from sphinx->pami==2024.7.2) (2.31.0)\n",
            "Collecting sphinxcontrib-jquery<5,>=4 (from sphinx-rtd-theme->pami==2024.7.2)\n",
            "  Downloading sphinxcontrib_jquery-4.1-py2.py3-none-any.whl.metadata (2.6 kB)\n",
            "Requirement already satisfied: aiosignal>=1.1.2 in /usr/local/lib/python3.10/dist-packages (from aiohttp<4,>=3.7.4->discord.py->pami==2024.7.2) (1.3.1)\n",
            "Requirement already satisfied: attrs>=17.3.0 in /usr/local/lib/python3.10/dist-packages (from aiohttp<4,>=3.7.4->discord.py->pami==2024.7.2) (23.2.0)\n",
            "Requirement already satisfied: frozenlist>=1.1.1 in /usr/local/lib/python3.10/dist-packages (from aiohttp<4,>=3.7.4->discord.py->pami==2024.7.2) (1.4.1)\n",
            "Requirement already satisfied: multidict<7.0,>=4.5 in /usr/local/lib/python3.10/dist-packages (from aiohttp<4,>=3.7.4->discord.py->pami==2024.7.2) (6.0.5)\n",
            "Requirement already satisfied: yarl<2.0,>=1.0 in /usr/local/lib/python3.10/dist-packages (from aiohttp<4,>=3.7.4->discord.py->pami==2024.7.2) (1.9.4)\n",
            "Requirement already satisfied: async-timeout<5.0,>=4.0 in /usr/local/lib/python3.10/dist-packages (from aiohttp<4,>=3.7.4->discord.py->pami==2024.7.2) (4.0.3)\n",
            "Requirement already satisfied: MarkupSafe>=2.0 in /usr/local/lib/python3.10/dist-packages (from Jinja2>=2.3->sphinx->pami==2024.7.2) (2.1.5)\n",
            "Requirement already satisfied: jsonschema in /usr/local/lib/python3.10/dist-packages (from JsonForm>=0.0.2->resource->pami==2024.7.2) (4.23.0)\n",
            "Requirement already satisfied: six>=1.5 in /usr/local/lib/python3.10/dist-packages (from python-dateutil>=2.7->matplotlib->pami==2024.7.2) (1.16.0)\n",
            "Requirement already satisfied: PyYAML in /usr/local/lib/python3.10/dist-packages (from python-easyconfig>=0.1.0->resource->pami==2024.7.2) (6.0.1)\n",
            "Requirement already satisfied: charset-normalizer<4,>=2 in /usr/local/lib/python3.10/dist-packages (from requests>=2.5.0->sphinx->pami==2024.7.2) (3.3.2)\n",
            "Requirement already satisfied: idna<4,>=2.5 in /usr/local/lib/python3.10/dist-packages (from requests>=2.5.0->sphinx->pami==2024.7.2) (3.7)\n",
            "Requirement already satisfied: certifi>=2017.4.17 in /usr/local/lib/python3.10/dist-packages (from requests>=2.5.0->sphinx->pami==2024.7.2) (2024.7.4)\n",
            "Requirement already satisfied: jsonschema-specifications>=2023.03.6 in /usr/local/lib/python3.10/dist-packages (from jsonschema->JsonForm>=0.0.2->resource->pami==2024.7.2) (2023.12.1)\n",
            "Requirement already satisfied: referencing>=0.28.4 in /usr/local/lib/python3.10/dist-packages (from jsonschema->JsonForm>=0.0.2->resource->pami==2024.7.2) (0.35.1)\n",
            "Requirement already satisfied: rpds-py>=0.7.1 in /usr/local/lib/python3.10/dist-packages (from jsonschema->JsonForm>=0.0.2->resource->pami==2024.7.2) (0.19.0)\n",
            "Downloading Deprecated-1.2.14-py2.py3-none-any.whl (9.6 kB)\n",
            "Downloading discord.py-2.4.0-py3-none-any.whl (1.1 MB)\n",
            "\u001b[2K   \u001b[90m━━━━━━━━━━━━━━━━━━━━━━━━━━━━━━━━━━━━━━━━\u001b[0m \u001b[32m1.1/1.1 MB\u001b[0m \u001b[31m38.2 MB/s\u001b[0m eta \u001b[36m0:00:00\u001b[0m\n",
            "\u001b[?25hDownloading Resource-0.2.1-py2.py3-none-any.whl (25 kB)\n",
            "Downloading sphinx_rtd_theme-2.0.0-py2.py3-none-any.whl (2.8 MB)\n",
            "\u001b[2K   \u001b[90m━━━━━━━━━━━━━━━━━━━━━━━━━━━━━━━━━━━━━━━━\u001b[0m \u001b[32m2.8/2.8 MB\u001b[0m \u001b[31m69.3 MB/s\u001b[0m eta \u001b[36m0:00:00\u001b[0m\n",
            "\u001b[?25hDownloading validators-0.33.0-py3-none-any.whl (43 kB)\n",
            "\u001b[2K   \u001b[90m━━━━━━━━━━━━━━━━━━━━━━━━━━━━━━━━━━━━━━━━\u001b[0m \u001b[32m43.3/43.3 kB\u001b[0m \u001b[31m3.1 MB/s\u001b[0m eta \u001b[36m0:00:00\u001b[0m\n",
            "\u001b[?25hDownloading Python_EasyConfig-0.1.7-py2.py3-none-any.whl (5.4 kB)\n",
            "Downloading sphinxcontrib_jquery-4.1-py2.py3-none-any.whl (121 kB)\n",
            "\u001b[2K   \u001b[90m━━━━━━━━━━━━━━━━━━━━━━━━━━━━━━━━━━━━━━━━\u001b[0m \u001b[32m121.1/121.1 kB\u001b[0m \u001b[31m8.8 MB/s\u001b[0m eta \u001b[36m0:00:00\u001b[0m\n",
            "\u001b[?25hBuilding wheels for collected packages: JsonForm, JsonSir\n",
            "  Building wheel for JsonForm (setup.py) ... \u001b[?25l\u001b[?25hdone\n",
            "  Created wheel for JsonForm: filename=JsonForm-0.0.2-py3-none-any.whl size=3311 sha256=2a3e7faa29e7a7bfb859b39fecef1c83e44db5e7d48627f6f4192a7a952e77a5\n",
            "  Stored in directory: /root/.cache/pip/wheels/b6/e5/87/11026246d3bd4ad67c0615682d2d6748bbd9a40ac0490882bd\n",
            "  Building wheel for JsonSir (setup.py) ... \u001b[?25l\u001b[?25hdone\n",
            "  Created wheel for JsonSir: filename=JsonSir-0.0.2-py3-none-any.whl size=4752 sha256=e4f8055615a0c6b53968a9f2417e7a83eb596177d57a54f5b07462a32081ecad\n",
            "  Stored in directory: /root/.cache/pip/wheels/1d/4c/d3/4d9757425983b43eb709be1043d82cd03fb863ce5f56f117e6\n",
            "Successfully built JsonForm JsonSir\n",
            "Installing collected packages: JsonSir, validators, python-easyconfig, deprecated, sphinxcontrib-jquery, discord.py, sphinx-rtd-theme, JsonForm, resource, pami\n",
            "  Running setup.py develop for pami\n",
            "Successfully installed JsonForm-0.0.2 JsonSir-0.0.2 deprecated-1.2.14 discord.py-2.4.0 pami-2024.7.2 python-easyconfig-0.1.7 resource-0.2.1 sphinx-rtd-theme-2.0.0 sphinxcontrib-jquery-4.1 validators-0.33.0\n"
          ]
        }
      ]
    },
    {
      "cell_type": "code",
      "source": [
        "# PAMIフォルダの内容を表示\n",
        "!ls PAMI"
      ],
      "metadata": {
        "colab": {
          "base_uri": "https://localhost:8080/",
          "height": 0
        },
        "id": "GJVAjRrMWsoN",
        "outputId": "5ee86368-adec-4c27-8c40-538a3c922687"
      },
      "execution_count": 3,
      "outputs": [
        {
          "output_type": "stream",
          "name": "stdout",
          "text": [
            " binder    finalSphinxDocs   main.py\t'PAMI Algorithms.xlsx'\t SECURITY.md   uploadPYPI.sh\n",
            " conf.py   images\t     notebooks\t pami.egg-info\t\t setup.py\n",
            " docs\t   LICENSE\t     PAMI\t README.md\t\t tests\n"
          ]
        }
      ]
    },
    {
      "cell_type": "code",
      "source": [
        "# インストールされたパッケージのリストを表示\n",
        "!pip list | grep PAMI"
      ],
      "metadata": {
        "colab": {
          "base_uri": "https://localhost:8080/",
          "height": 0
        },
        "id": "9Qzk_-V4W6or",
        "outputId": "447161b4-78b7-461c-c87a-097dd9f43719"
      },
      "execution_count": 4,
      "outputs": [
        {
          "output_type": "stream",
          "name": "stdout",
          "text": [
            "pami                             2024.7.2              /content/PAMI\n"
          ]
        }
      ]
    },
    {
      "cell_type": "code",
      "source": [
        "!ls PAMI/PAMI"
      ],
      "metadata": {
        "colab": {
          "base_uri": "https://localhost:8080/",
          "height": 0
        },
        "id": "XyG9sqbxXNQO",
        "outputId": "40197172-ccbd-4e09-caf5-b01c4716790a"
      },
      "execution_count": 5,
      "outputs": [
        {
          "output_type": "stream",
          "name": "stdout",
          "text": [
            "AssociationRules\t\t\t   localPeriodicPattern\n",
            "contiguousFrequentPattern\t\t   multipleMinimumSupportBasedFrequentPattern\n",
            "correlatedPattern\t\t\t   partialPeriodicFrequentPattern\n",
            "coveragePattern\t\t\t\t   partialPeriodicPattern\n",
            "extras\t\t\t\t\t   partialPeriodicPatternInMultipleTimeSeries\n",
            "faultTolerantFrequentPattern\t\t   periodicCorrelatedPattern\n",
            "frequentPattern\t\t\t\t   periodicFrequentPattern\n",
            "fuzzyCorrelatedPattern\t\t\t   recurringPattern\n",
            "fuzzyFrequentPattern\t\t\t   relativeFrequentPattern\n",
            "fuzzyGeoreferencedFrequentPattern\t   relativeHighUtilityPattern\n",
            "fuzzyGeoreferencedPeriodicFrequentPattern  sequence\n",
            "fuzzyPartialPeriodicPatterns\t\t   sequentialPattern\n",
            "fuzzyPeriodicFrequentPattern\t\t   sequentialSpatialPattern\n",
            "georeferencedFrequentPattern\t\t   stablePeriodicFrequentPattern\n",
            "georeferencedFrequentSequencePattern\t   subgraphMining\n",
            "georeferencedPartialPeriodicPattern\t   uncertainFaultTolerantFrequentPattern\n",
            "geoReferencedPeriodicFrequentPattern\t   uncertainFrequentPattern\n",
            "graphTransactionalCoveragePattern\t   uncertainGeoreferencedFrequentPattern\n",
            "highUtilityFrequentPattern\t\t   uncertainGraphMining\n",
            "highUtilityGeoreferencedFrequentPattern    uncertainPeriodicFrequentPattern\n",
            "highUtilityPattern\t\t\t   weightedFrequentNeighbourhoodPattern\n",
            "highUtilityPatterns\t\t\t   weightedFrequentPattern\n",
            "highUtilityPatternsInStreams\t\t   weightedFrequentRegularPattern\n",
            "highUtilitySpatialPattern\t\t   weightedUncertainFrequentPattern\n",
            "__init__.py\n"
          ]
        }
      ]
    },
    {
      "cell_type": "code",
      "source": [
        "import pandas as pd\n",
        "\n",
        "# Define a function to convert a DataFrame to a transactional database\n",
        "def df_to_transaction(df, condition='>=', threshold=15):\n",
        "    \"\"\"\n",
        "    Convert a DataFrame into a transactional database based on specified conditions.\n",
        "\n",
        "    Parameters:\n",
        "    df (pd.DataFrame): The input DataFrame to convert.\n",
        "    condition (str): The condition to apply for selecting items. Default is '>='.\n",
        "                     Other conditions include '>', '<=', '<', '==', and '!='.\n",
        "    threshold (float): The threshold value to apply with the condition. Default is 15.\n",
        "\n",
        "    Returns:\n",
        "    pd.DataFrame: The resulting transactional DataFrame.\n",
        "    \"\"\"\n",
        "    transactional_data = []\n",
        "    for index, row in df.iterrows():\n",
        "        transaction = []\n",
        "        for column, value in row.items():\n",
        "            try:\n",
        "                value = float(value)\n",
        "                if condition == '>=' and value >= threshold:\n",
        "                    transaction.append(column)\n",
        "                elif condition == '>' and value > threshold:\n",
        "                    transaction.append(column)\n",
        "                elif condition == '<=' and value <= threshold:\n",
        "                    transaction.append(column)\n",
        "                elif condition == '<' and value < threshold:\n",
        "                    transaction.append(column)\n",
        "                elif condition == '==' and value == threshold:\n",
        "                    transaction.append(column)\n",
        "                elif condition == '!=' and value != threshold:\n",
        "                    transaction.append(column)\n",
        "            except ValueError:\n",
        "                continue\n",
        "        transactional_data.append(transaction)\n",
        "    return pd.DataFrame(transactional_data)\n",
        "\n",
        "# Load the CSV file\n",
        "df = pd.read_csv('airPollutionDataFrame.csv')\n",
        "\n",
        "# Data preprocessing\n",
        "df.fillna(0, inplace=True)  # Replace NaN values with zero\n",
        "\n",
        "# Extract only numeric columns to apply the threshold\n",
        "numeric_cols = df.select_dtypes(include=['float64', 'int64']).columns\n",
        "\n",
        "# Replace values 100 and above with zero\n",
        "df[numeric_cols] = df[numeric_cols].applymap(lambda x: 0 if x >= 100 else x)\n",
        "\n",
        "# Drop the 'Timestamp' column if it exists\n",
        "if 'Timestamp' in df.columns:\n",
        "    df.drop(columns=['Timestamp'], inplace=True)\n",
        "\n",
        "# Convert the DataFrame to a transactional database\n",
        "transactional_data = df_to_transaction(df, condition='>=', threshold=15)\n",
        "\n",
        "# Save the transactional database to a CSV file\n",
        "transactional_data.to_csv('PM24HeavyPollutionRecordingSensors.csv', index=False)\n",
        "\n",
        "# Display the first few rows of the transactional database\n",
        "print(transactional_data.head())"
      ],
      "metadata": {
        "colab": {
          "base_uri": "https://localhost:8080/",
          "height": 0
        },
        "id": "PgidZAyybkX7",
        "outputId": "559487be-5504-4e07-ca68-bea5c9b2621d"
      },
      "execution_count": 7,
      "outputs": [
        {
          "output_type": "stream",
          "name": "stdout",
          "text": [
            "                        0                         1    \\\n",
            "0   Point(sensorID_4202060)   Point(sensorID_7201200)   \n",
            "1   Point(sensorID_4202060)  Point(sensorID_10202010)   \n",
            "2   Point(sensorID_4202060)   Point(sensorID_5201010)   \n",
            "3  Point(sensorID_10207010)  Point(sensorID_11202040)   \n",
            "4   Point(sensorID_5206060)   Point(sensorID_9208520)   \n",
            "\n",
            "                        2                         3    \\\n",
            "0  Point(sensorID_10202010)  Point(sensorID_10205010)   \n",
            "1  Point(sensorID_10207010)  Point(sensorID_11202510)   \n",
            "2  Point(sensorID_10207010)  Point(sensorID_11202040)   \n",
            "3  Point(sensorID_11202510)  Point(sensorID_11206020)   \n",
            "4  Point(sensorID_10207010)  Point(sensorID_11202040)   \n",
            "\n",
            "                        4                         5    \\\n",
            "0  Point(sensorID_10207010)  Point(sensorID_11202040)   \n",
            "1  Point(sensorID_11206020)  Point(sensorID_11210010)   \n",
            "2  Point(sensorID_11202510)  Point(sensorID_11206020)   \n",
            "3  Point(sensorID_11210010)  Point(sensorID_11212020)   \n",
            "4  Point(sensorID_11202510)  Point(sensorID_11206020)   \n",
            "\n",
            "                        6                         7    \\\n",
            "0  Point(sensorID_11202510)  Point(sensorID_11206020)   \n",
            "1  Point(sensorID_11211010)  Point(sensorID_11212520)   \n",
            "2  Point(sensorID_11210010)  Point(sensorID_11211010)   \n",
            "3  Point(sensorID_11212520)  Point(sensorID_11216010)   \n",
            "4  Point(sensorID_11210010)  Point(sensorID_11212520)   \n",
            "\n",
            "                        8                         9    ...   563   564   565  \\\n",
            "0  Point(sensorID_11210010)  Point(sensorID_11211010)  ...  None  None  None   \n",
            "1  Point(sensorID_11216010)  Point(sensorID_11217010)  ...  None  None  None   \n",
            "2  Point(sensorID_11212520)  Point(sensorID_11216010)  ...  None  None  None   \n",
            "3  Point(sensorID_11217010)  Point(sensorID_11217510)  ...  None  None  None   \n",
            "4  Point(sensorID_11216010)  Point(sensorID_11217010)  ...  None  None  None   \n",
            "\n",
            "    566   567   568   569   570   571   572  \n",
            "0  None  None  None  None  None  None  None  \n",
            "1  None  None  None  None  None  None  None  \n",
            "2  None  None  None  None  None  None  None  \n",
            "3  None  None  None  None  None  None  None  \n",
            "4  None  None  None  None  None  None  None  \n",
            "\n",
            "[5 rows x 573 columns]\n"
          ]
        }
      ]
    },
    {
      "cell_type": "code",
      "source": [
        "!pip install mlxtend"
      ],
      "metadata": {
        "colab": {
          "base_uri": "https://localhost:8080/",
          "height": 0
        },
        "id": "bZGKmjZFdQGQ",
        "outputId": "976d5dc8-70ee-4091-d6da-0ddaf3cfec45"
      },
      "execution_count": 8,
      "outputs": [
        {
          "output_type": "stream",
          "name": "stdout",
          "text": [
            "Requirement already satisfied: mlxtend in /usr/local/lib/python3.10/dist-packages (0.23.1)\n",
            "Requirement already satisfied: scipy>=1.2.1 in /usr/local/lib/python3.10/dist-packages (from mlxtend) (1.13.1)\n",
            "Requirement already satisfied: numpy>=1.16.2 in /usr/local/lib/python3.10/dist-packages (from mlxtend) (1.25.2)\n",
            "Requirement already satisfied: pandas>=0.24.2 in /usr/local/lib/python3.10/dist-packages (from mlxtend) (2.0.3)\n",
            "Requirement already satisfied: scikit-learn>=1.0.2 in /usr/local/lib/python3.10/dist-packages (from mlxtend) (1.3.2)\n",
            "Requirement already satisfied: matplotlib>=3.0.0 in /usr/local/lib/python3.10/dist-packages (from mlxtend) (3.7.1)\n",
            "Requirement already satisfied: joblib>=0.13.2 in /usr/local/lib/python3.10/dist-packages (from mlxtend) (1.4.2)\n",
            "Requirement already satisfied: contourpy>=1.0.1 in /usr/local/lib/python3.10/dist-packages (from matplotlib>=3.0.0->mlxtend) (1.2.1)\n",
            "Requirement already satisfied: cycler>=0.10 in /usr/local/lib/python3.10/dist-packages (from matplotlib>=3.0.0->mlxtend) (0.12.1)\n",
            "Requirement already satisfied: fonttools>=4.22.0 in /usr/local/lib/python3.10/dist-packages (from matplotlib>=3.0.0->mlxtend) (4.53.1)\n",
            "Requirement already satisfied: kiwisolver>=1.0.1 in /usr/local/lib/python3.10/dist-packages (from matplotlib>=3.0.0->mlxtend) (1.4.5)\n",
            "Requirement already satisfied: packaging>=20.0 in /usr/local/lib/python3.10/dist-packages (from matplotlib>=3.0.0->mlxtend) (24.1)\n",
            "Requirement already satisfied: pillow>=6.2.0 in /usr/local/lib/python3.10/dist-packages (from matplotlib>=3.0.0->mlxtend) (9.4.0)\n",
            "Requirement already satisfied: pyparsing>=2.3.1 in /usr/local/lib/python3.10/dist-packages (from matplotlib>=3.0.0->mlxtend) (3.1.2)\n",
            "Requirement already satisfied: python-dateutil>=2.7 in /usr/local/lib/python3.10/dist-packages (from matplotlib>=3.0.0->mlxtend) (2.8.2)\n",
            "Requirement already satisfied: pytz>=2020.1 in /usr/local/lib/python3.10/dist-packages (from pandas>=0.24.2->mlxtend) (2024.1)\n",
            "Requirement already satisfied: tzdata>=2022.1 in /usr/local/lib/python3.10/dist-packages (from pandas>=0.24.2->mlxtend) (2024.1)\n",
            "Requirement already satisfied: threadpoolctl>=2.0.0 in /usr/local/lib/python3.10/dist-packages (from scikit-learn>=1.0.2->mlxtend) (3.5.0)\n",
            "Requirement already satisfied: six>=1.5 in /usr/local/lib/python3.10/dist-packages (from python-dateutil>=2.7->matplotlib>=3.0.0->mlxtend) (1.16.0)\n"
          ]
        }
      ]
    },
    {
      "cell_type": "code",
      "source": [
        "import pandas as pd\n",
        "import os\n",
        "from mlxtend.frequent_patterns import fpgrowth\n",
        "from mlxtend.preprocessing import TransactionEncoder\n",
        "from multiprocessing import Pool\n",
        "\n",
        "# Load the transactional data\n",
        "df = pd.read_csv('PM24HeavyPollutionRecordingSensors.csv')\n",
        "\n",
        "# Split the data into chunks and save to temporary files\n",
        "chunk_size = 5000  # Set a smaller chunk size\n",
        "chunk_files = []\n",
        "for i, chunk in enumerate(range(0, len(df), chunk_size)):\n",
        "    chunk_df = df.iloc[chunk:chunk+chunk_size]\n",
        "    chunk_file = f'temp_chunk_{i}.csv'\n",
        "    chunk_df.to_csv(chunk_file, index=False)\n",
        "    chunk_files.append(chunk_file)\n",
        "\n",
        "# Function to process each chunk\n",
        "def process_chunk(chunk_file):\n",
        "    \"\"\"\n",
        "    Process a chunk of the data, perform FP-growth algorithm, and remove the temporary file.\n",
        "\n",
        "    Parameters:\n",
        "    chunk_file (str): The path to the temporary chunk file.\n",
        "\n",
        "    Returns:\n",
        "    pd.DataFrame: The resulting DataFrame of frequent itemsets.\n",
        "    \"\"\"\n",
        "    chunk_df = pd.read_csv(chunk_file)\n",
        "    transactions = chunk_df.astype(str).values.tolist()\n",
        "\n",
        "    # Encode the transaction data\n",
        "    te = TransactionEncoder()\n",
        "    te_ary = te.fit(transactions).transform(transactions)\n",
        "    transaction_df = pd.DataFrame(te_ary, columns=te.columns_)\n",
        "\n",
        "    # Execute FP-growth\n",
        "    frequent_itemsets = fpgrowth(transaction_df, min_support=0.8, use_colnames=True)\n",
        "\n",
        "    # Remove the temporary file\n",
        "    os.remove(chunk_file)\n",
        "\n",
        "    return frequent_itemsets\n",
        "\n",
        "# Parallel processing\n",
        "with Pool() as pool:\n",
        "    frequent_itemsets_list = pool.map(process_chunk, chunk_files)\n",
        "\n",
        "# Combine all results\n",
        "final_frequent_itemsets = pd.concat(frequent_itemsets_list, ignore_index=True).drop_duplicates()\n",
        "\n",
        "# Save the frequent patterns to a file\n",
        "with open('frequentPatterns.txt', 'w') as f:\n",
        "    for index, row in final_frequent_itemsets.iterrows():\n",
        "        f.write(str(row['itemsets']) + '\\n')\n",
        "\n",
        "# Display the frequent patterns\n",
        "print(final_frequent_itemsets)"
      ],
      "metadata": {
        "colab": {
          "base_uri": "https://localhost:8080/",
          "height": 0
        },
        "id": "m0SQdE1fdTr7",
        "outputId": "89c7f6ee-5eb7-40c6-af32-245cfbd42a5d"
      },
      "execution_count": 9,
      "outputs": [
        {
          "output_type": "stream",
          "name": "stdout",
          "text": [
            "    support itemsets\n",
            "0  0.993976    (nan)\n"
          ]
        }
      ]
    },
    {
      "cell_type": "code",
      "source": [
        "test_patterns = \"\"\"\n",
        "frozenset({'Sensor A', 'Sensor B'})\n",
        "frozenset({'Sensor A', 'Sensor B', 'Sensor C'})\n",
        "frozenset({'Sensor B', 'Sensor C'})\n",
        "\"\"\"\n",
        "\n",
        "with open('test_frequentPatterns.txt', 'w') as f:\n",
        "    f.write(test_patterns)"
      ],
      "metadata": {
        "colab": {
          "base_uri": "https://localhost:8080/",
          "height": 0
        },
        "id": "3otvEKyjB3yn",
        "outputId": "d3b558c9-6c00-43d6-a47b-2957eba6ef23"
      },
      "execution_count": 19,
      "outputs": [
        {
          "output_type": "stream",
          "name": "stderr",
          "text": [
            "/usr/local/lib/python3.10/dist-packages/ipykernel/ipkernel.py:283: DeprecationWarning:\n",
            "\n",
            "`should_run_async` will not call `transform_cell` automatically in the future. Please pass the result to `transformed_cell` argument and any exception that happen during thetransform in `preprocessing_exc_tuple` in IPython 7.17 and above.\n",
            "\n"
          ]
        }
      ]
    },
    {
      "cell_type": "code",
      "source": [
        "import pandas as pd\n",
        "import plotly.express as px\n",
        "import re\n",
        "\n",
        "# Identify the longest pattern\n",
        "with open('test_frequentPatterns.txt', 'r') as f:\n",
        "    patterns = f.readlines()\n",
        "\n",
        "# Exclude patterns containing 'nan' and identify the longest pattern\n",
        "valid_patterns = []\n",
        "pattern_re = re.compile(r\"frozenset\\(\\{(.+?)\\}\\)\")\n",
        "\n",
        "for p in patterns:\n",
        "    match = pattern_re.search(p.strip())\n",
        "    if match:\n",
        "        sensors = match.group(1).replace(\"'\", \"\").split(\", \")\n",
        "        if 'nan' not in sensors:\n",
        "            valid_patterns.append(sensors)\n",
        "\n",
        "longest_pattern = max(valid_patterns, key=len) if valid_patterns else []\n",
        "\n",
        "# Display the longest pattern\n",
        "print(f\"Longest Pattern: {longest_pattern}\")\n",
        "\n",
        "# Example: Using sensor location data to plot on a map\n",
        "sensor_locations = {\n",
        "    'Sensor A': [35.6895, 139.6917],  # Example: Tokyo\n",
        "    'Sensor B': [34.0522, -118.2437],  # Example: Los Angeles\n",
        "    'Sensor C': [51.5074, -0.1278]     # Example: London\n",
        "}\n",
        "\n",
        "# Extract sensor locations for the longest pattern\n",
        "locations = [sensor_locations[sensor] for sensor in longest_pattern if sensor in sensor_locations]\n",
        "\n",
        "# Create a DataFrame\n",
        "location_df = pd.DataFrame(locations, columns=['Latitude', 'Longitude'])\n",
        "\n",
        "# Display the map\n",
        "fig = px.scatter_mapbox(location_df, lat='Latitude', lon='Longitude',\n",
        "                        zoom=2, height=600, width=800,\n",
        "                        title='Longest Pattern Sensor Locations')\n",
        "\n",
        "# Set the map style\n",
        "fig.update_layout(mapbox_style=\"open-street-map\")\n",
        "fig.update_layout(margin={\"r\":0,\"t\":0,\"l\":0,\"b\":0})\n",
        "\n",
        "# Add points to the map\n",
        "fig.update_traces(marker=dict(size=12, color='red'))\n",
        "\n",
        "fig.show()"
      ],
      "metadata": {
        "colab": {
          "base_uri": "https://localhost:8080/",
          "height": 726
        },
        "id": "LRBLpeabB7AG",
        "outputId": "e5d02abc-00e8-4c29-c9dc-6d9373cdac10"
      },
      "execution_count": 25,
      "outputs": [
        {
          "output_type": "stream",
          "name": "stdout",
          "text": [
            "Longest Pattern: ['Sensor A', 'Sensor B', 'Sensor C']\n"
          ]
        },
        {
          "output_type": "stream",
          "name": "stderr",
          "text": [
            "/usr/local/lib/python3.10/dist-packages/ipykernel/ipkernel.py:283: DeprecationWarning:\n",
            "\n",
            "`should_run_async` will not call `transform_cell` automatically in the future. Please pass the result to `transformed_cell` argument and any exception that happen during thetransform in `preprocessing_exc_tuple` in IPython 7.17 and above.\n",
            "\n"
          ]
        },
        {
          "output_type": "display_data",
          "data": {
            "text/html": [
              "<html>\n",
              "<head><meta charset=\"utf-8\" /></head>\n",
              "<body>\n",
              "    <div>            <script src=\"https://cdnjs.cloudflare.com/ajax/libs/mathjax/2.7.5/MathJax.js?config=TeX-AMS-MML_SVG\"></script><script type=\"text/javascript\">if (window.MathJax && window.MathJax.Hub && window.MathJax.Hub.Config) {window.MathJax.Hub.Config({SVG: {font: \"STIX-Web\"}});}</script>                <script type=\"text/javascript\">window.PlotlyConfig = {MathJaxConfig: 'local'};</script>\n",
              "        <script charset=\"utf-8\" src=\"https://cdn.plot.ly/plotly-2.24.1.min.js\"></script>                <div id=\"9b8255cd-ded4-494b-8f5f-94d6b2f91b06\" class=\"plotly-graph-div\" style=\"height:600px; width:800px;\"></div>            <script type=\"text/javascript\">                                    window.PLOTLYENV=window.PLOTLYENV || {};                                    if (document.getElementById(\"9b8255cd-ded4-494b-8f5f-94d6b2f91b06\")) {                    Plotly.newPlot(                        \"9b8255cd-ded4-494b-8f5f-94d6b2f91b06\",                        [{\"hovertemplate\":\"Latitude=%{lat}\\u003cbr\\u003eLongitude=%{lon}\\u003cextra\\u003e\\u003c\\u002fextra\\u003e\",\"lat\":[35.6895,34.0522,51.5074],\"legendgroup\":\"\",\"lon\":[139.6917,-118.2437,-0.1278],\"marker\":{\"color\":\"red\",\"size\":12},\"mode\":\"markers\",\"name\":\"\",\"showlegend\":false,\"subplot\":\"mapbox\",\"type\":\"scattermapbox\"}],                        {\"template\":{\"data\":{\"histogram2dcontour\":[{\"type\":\"histogram2dcontour\",\"colorbar\":{\"outlinewidth\":0,\"ticks\":\"\"},\"colorscale\":[[0.0,\"#0d0887\"],[0.1111111111111111,\"#46039f\"],[0.2222222222222222,\"#7201a8\"],[0.3333333333333333,\"#9c179e\"],[0.4444444444444444,\"#bd3786\"],[0.5555555555555556,\"#d8576b\"],[0.6666666666666666,\"#ed7953\"],[0.7777777777777778,\"#fb9f3a\"],[0.8888888888888888,\"#fdca26\"],[1.0,\"#f0f921\"]]}],\"choropleth\":[{\"type\":\"choropleth\",\"colorbar\":{\"outlinewidth\":0,\"ticks\":\"\"}}],\"histogram2d\":[{\"type\":\"histogram2d\",\"colorbar\":{\"outlinewidth\":0,\"ticks\":\"\"},\"colorscale\":[[0.0,\"#0d0887\"],[0.1111111111111111,\"#46039f\"],[0.2222222222222222,\"#7201a8\"],[0.3333333333333333,\"#9c179e\"],[0.4444444444444444,\"#bd3786\"],[0.5555555555555556,\"#d8576b\"],[0.6666666666666666,\"#ed7953\"],[0.7777777777777778,\"#fb9f3a\"],[0.8888888888888888,\"#fdca26\"],[1.0,\"#f0f921\"]]}],\"heatmap\":[{\"type\":\"heatmap\",\"colorbar\":{\"outlinewidth\":0,\"ticks\":\"\"},\"colorscale\":[[0.0,\"#0d0887\"],[0.1111111111111111,\"#46039f\"],[0.2222222222222222,\"#7201a8\"],[0.3333333333333333,\"#9c179e\"],[0.4444444444444444,\"#bd3786\"],[0.5555555555555556,\"#d8576b\"],[0.6666666666666666,\"#ed7953\"],[0.7777777777777778,\"#fb9f3a\"],[0.8888888888888888,\"#fdca26\"],[1.0,\"#f0f921\"]]}],\"heatmapgl\":[{\"type\":\"heatmapgl\",\"colorbar\":{\"outlinewidth\":0,\"ticks\":\"\"},\"colorscale\":[[0.0,\"#0d0887\"],[0.1111111111111111,\"#46039f\"],[0.2222222222222222,\"#7201a8\"],[0.3333333333333333,\"#9c179e\"],[0.4444444444444444,\"#bd3786\"],[0.5555555555555556,\"#d8576b\"],[0.6666666666666666,\"#ed7953\"],[0.7777777777777778,\"#fb9f3a\"],[0.8888888888888888,\"#fdca26\"],[1.0,\"#f0f921\"]]}],\"contourcarpet\":[{\"type\":\"contourcarpet\",\"colorbar\":{\"outlinewidth\":0,\"ticks\":\"\"}}],\"contour\":[{\"type\":\"contour\",\"colorbar\":{\"outlinewidth\":0,\"ticks\":\"\"},\"colorscale\":[[0.0,\"#0d0887\"],[0.1111111111111111,\"#46039f\"],[0.2222222222222222,\"#7201a8\"],[0.3333333333333333,\"#9c179e\"],[0.4444444444444444,\"#bd3786\"],[0.5555555555555556,\"#d8576b\"],[0.6666666666666666,\"#ed7953\"],[0.7777777777777778,\"#fb9f3a\"],[0.8888888888888888,\"#fdca26\"],[1.0,\"#f0f921\"]]}],\"surface\":[{\"type\":\"surface\",\"colorbar\":{\"outlinewidth\":0,\"ticks\":\"\"},\"colorscale\":[[0.0,\"#0d0887\"],[0.1111111111111111,\"#46039f\"],[0.2222222222222222,\"#7201a8\"],[0.3333333333333333,\"#9c179e\"],[0.4444444444444444,\"#bd3786\"],[0.5555555555555556,\"#d8576b\"],[0.6666666666666666,\"#ed7953\"],[0.7777777777777778,\"#fb9f3a\"],[0.8888888888888888,\"#fdca26\"],[1.0,\"#f0f921\"]]}],\"mesh3d\":[{\"type\":\"mesh3d\",\"colorbar\":{\"outlinewidth\":0,\"ticks\":\"\"}}],\"scatter\":[{\"fillpattern\":{\"fillmode\":\"overlay\",\"size\":10,\"solidity\":0.2},\"type\":\"scatter\"}],\"parcoords\":[{\"type\":\"parcoords\",\"line\":{\"colorbar\":{\"outlinewidth\":0,\"ticks\":\"\"}}}],\"scatterpolargl\":[{\"type\":\"scatterpolargl\",\"marker\":{\"colorbar\":{\"outlinewidth\":0,\"ticks\":\"\"}}}],\"bar\":[{\"error_x\":{\"color\":\"#2a3f5f\"},\"error_y\":{\"color\":\"#2a3f5f\"},\"marker\":{\"line\":{\"color\":\"#E5ECF6\",\"width\":0.5},\"pattern\":{\"fillmode\":\"overlay\",\"size\":10,\"solidity\":0.2}},\"type\":\"bar\"}],\"scattergeo\":[{\"type\":\"scattergeo\",\"marker\":{\"colorbar\":{\"outlinewidth\":0,\"ticks\":\"\"}}}],\"scatterpolar\":[{\"type\":\"scatterpolar\",\"marker\":{\"colorbar\":{\"outlinewidth\":0,\"ticks\":\"\"}}}],\"histogram\":[{\"marker\":{\"pattern\":{\"fillmode\":\"overlay\",\"size\":10,\"solidity\":0.2}},\"type\":\"histogram\"}],\"scattergl\":[{\"type\":\"scattergl\",\"marker\":{\"colorbar\":{\"outlinewidth\":0,\"ticks\":\"\"}}}],\"scatter3d\":[{\"type\":\"scatter3d\",\"line\":{\"colorbar\":{\"outlinewidth\":0,\"ticks\":\"\"}},\"marker\":{\"colorbar\":{\"outlinewidth\":0,\"ticks\":\"\"}}}],\"scattermapbox\":[{\"type\":\"scattermapbox\",\"marker\":{\"colorbar\":{\"outlinewidth\":0,\"ticks\":\"\"}}}],\"scatterternary\":[{\"type\":\"scatterternary\",\"marker\":{\"colorbar\":{\"outlinewidth\":0,\"ticks\":\"\"}}}],\"scattercarpet\":[{\"type\":\"scattercarpet\",\"marker\":{\"colorbar\":{\"outlinewidth\":0,\"ticks\":\"\"}}}],\"carpet\":[{\"aaxis\":{\"endlinecolor\":\"#2a3f5f\",\"gridcolor\":\"white\",\"linecolor\":\"white\",\"minorgridcolor\":\"white\",\"startlinecolor\":\"#2a3f5f\"},\"baxis\":{\"endlinecolor\":\"#2a3f5f\",\"gridcolor\":\"white\",\"linecolor\":\"white\",\"minorgridcolor\":\"white\",\"startlinecolor\":\"#2a3f5f\"},\"type\":\"carpet\"}],\"table\":[{\"cells\":{\"fill\":{\"color\":\"#EBF0F8\"},\"line\":{\"color\":\"white\"}},\"header\":{\"fill\":{\"color\":\"#C8D4E3\"},\"line\":{\"color\":\"white\"}},\"type\":\"table\"}],\"barpolar\":[{\"marker\":{\"line\":{\"color\":\"#E5ECF6\",\"width\":0.5},\"pattern\":{\"fillmode\":\"overlay\",\"size\":10,\"solidity\":0.2}},\"type\":\"barpolar\"}],\"pie\":[{\"automargin\":true,\"type\":\"pie\"}]},\"layout\":{\"autotypenumbers\":\"strict\",\"colorway\":[\"#636efa\",\"#EF553B\",\"#00cc96\",\"#ab63fa\",\"#FFA15A\",\"#19d3f3\",\"#FF6692\",\"#B6E880\",\"#FF97FF\",\"#FECB52\"],\"font\":{\"color\":\"#2a3f5f\"},\"hovermode\":\"closest\",\"hoverlabel\":{\"align\":\"left\"},\"paper_bgcolor\":\"white\",\"plot_bgcolor\":\"#E5ECF6\",\"polar\":{\"bgcolor\":\"#E5ECF6\",\"angularaxis\":{\"gridcolor\":\"white\",\"linecolor\":\"white\",\"ticks\":\"\"},\"radialaxis\":{\"gridcolor\":\"white\",\"linecolor\":\"white\",\"ticks\":\"\"}},\"ternary\":{\"bgcolor\":\"#E5ECF6\",\"aaxis\":{\"gridcolor\":\"white\",\"linecolor\":\"white\",\"ticks\":\"\"},\"baxis\":{\"gridcolor\":\"white\",\"linecolor\":\"white\",\"ticks\":\"\"},\"caxis\":{\"gridcolor\":\"white\",\"linecolor\":\"white\",\"ticks\":\"\"}},\"coloraxis\":{\"colorbar\":{\"outlinewidth\":0,\"ticks\":\"\"}},\"colorscale\":{\"sequential\":[[0.0,\"#0d0887\"],[0.1111111111111111,\"#46039f\"],[0.2222222222222222,\"#7201a8\"],[0.3333333333333333,\"#9c179e\"],[0.4444444444444444,\"#bd3786\"],[0.5555555555555556,\"#d8576b\"],[0.6666666666666666,\"#ed7953\"],[0.7777777777777778,\"#fb9f3a\"],[0.8888888888888888,\"#fdca26\"],[1.0,\"#f0f921\"]],\"sequentialminus\":[[0.0,\"#0d0887\"],[0.1111111111111111,\"#46039f\"],[0.2222222222222222,\"#7201a8\"],[0.3333333333333333,\"#9c179e\"],[0.4444444444444444,\"#bd3786\"],[0.5555555555555556,\"#d8576b\"],[0.6666666666666666,\"#ed7953\"],[0.7777777777777778,\"#fb9f3a\"],[0.8888888888888888,\"#fdca26\"],[1.0,\"#f0f921\"]],\"diverging\":[[0,\"#8e0152\"],[0.1,\"#c51b7d\"],[0.2,\"#de77ae\"],[0.3,\"#f1b6da\"],[0.4,\"#fde0ef\"],[0.5,\"#f7f7f7\"],[0.6,\"#e6f5d0\"],[0.7,\"#b8e186\"],[0.8,\"#7fbc41\"],[0.9,\"#4d9221\"],[1,\"#276419\"]]},\"xaxis\":{\"gridcolor\":\"white\",\"linecolor\":\"white\",\"ticks\":\"\",\"title\":{\"standoff\":15},\"zerolinecolor\":\"white\",\"automargin\":true,\"zerolinewidth\":2},\"yaxis\":{\"gridcolor\":\"white\",\"linecolor\":\"white\",\"ticks\":\"\",\"title\":{\"standoff\":15},\"zerolinecolor\":\"white\",\"automargin\":true,\"zerolinewidth\":2},\"scene\":{\"xaxis\":{\"backgroundcolor\":\"#E5ECF6\",\"gridcolor\":\"white\",\"linecolor\":\"white\",\"showbackground\":true,\"ticks\":\"\",\"zerolinecolor\":\"white\",\"gridwidth\":2},\"yaxis\":{\"backgroundcolor\":\"#E5ECF6\",\"gridcolor\":\"white\",\"linecolor\":\"white\",\"showbackground\":true,\"ticks\":\"\",\"zerolinecolor\":\"white\",\"gridwidth\":2},\"zaxis\":{\"backgroundcolor\":\"#E5ECF6\",\"gridcolor\":\"white\",\"linecolor\":\"white\",\"showbackground\":true,\"ticks\":\"\",\"zerolinecolor\":\"white\",\"gridwidth\":2}},\"shapedefaults\":{\"line\":{\"color\":\"#2a3f5f\"}},\"annotationdefaults\":{\"arrowcolor\":\"#2a3f5f\",\"arrowhead\":0,\"arrowwidth\":1},\"geo\":{\"bgcolor\":\"white\",\"landcolor\":\"#E5ECF6\",\"subunitcolor\":\"white\",\"showland\":true,\"showlakes\":true,\"lakecolor\":\"white\"},\"title\":{\"x\":0.05},\"mapbox\":{\"style\":\"light\"}}},\"mapbox\":{\"domain\":{\"x\":[0.0,1.0],\"y\":[0.0,1.0]},\"center\":{\"lat\":40.41636666666667,\"lon\":7.106733333333331},\"zoom\":2,\"style\":\"open-street-map\"},\"legend\":{\"tracegroupgap\":0},\"title\":{\"text\":\"Longest Pattern Sensor Locations\"},\"height\":600,\"width\":800,\"margin\":{\"r\":0,\"t\":0,\"l\":0,\"b\":0}},                        {\"responsive\": true}                    ).then(function(){\n",
              "                            \n",
              "var gd = document.getElementById('9b8255cd-ded4-494b-8f5f-94d6b2f91b06');\n",
              "var x = new MutationObserver(function (mutations, observer) {{\n",
              "        var display = window.getComputedStyle(gd).display;\n",
              "        if (!display || display === 'none') {{\n",
              "            console.log([gd, 'removed!']);\n",
              "            Plotly.purge(gd);\n",
              "            observer.disconnect();\n",
              "        }}\n",
              "}});\n",
              "\n",
              "// Listen for the removal of the full notebook cells\n",
              "var notebookContainer = gd.closest('#notebook-container');\n",
              "if (notebookContainer) {{\n",
              "    x.observe(notebookContainer, {childList: true});\n",
              "}}\n",
              "\n",
              "// Listen for the clearing of the current output cell\n",
              "var outputEl = gd.closest('.output');\n",
              "if (outputEl) {{\n",
              "    x.observe(outputEl, {childList: true});\n",
              "}}\n",
              "\n",
              "                        })                };                            </script>        </div>\n",
              "</body>\n",
              "</html>"
            ]
          },
          "metadata": {}
        }
      ]
    }
  ]
}